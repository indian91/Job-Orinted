{
 "cells": [
  {
   "cell_type": "markdown",
   "metadata": {},
   "source": [
    "# JSON Bank application"
   ]
  },
  {
   "cell_type": "code",
   "execution_count": 15,
   "metadata": {},
   "outputs": [],
   "source": [
    "import json\n",
    "import os\n",
    "import time\n",
    "from getpass import getpass\n",
    "c=0\n",
    "def main():\n",
    "    global c\n",
    "    for i in \"------Welcom To Our Bank-------\".center(500,' '):\n",
    "        \n",
    "        if c==0:\n",
    "            time.sleep(0.001)\n",
    "            print(i,end='')\n",
    "    c+=1\n",
    "    s=\"\\n1.Signup\\n2.Login\\n3.Exit\"\n",
    "    print(s)\n",
    "    ch=int(input(\"Enter you choice: \"))\n",
    "    if ch==1:signup()\n",
    "    elif ch==2:login()\n",
    "    else:     exit()\n",
    "def exit():\n",
    "    print(\"Thanks for connecting with us\")\n",
    "    for i in \"Have a Good day\".center(100,' '):\n",
    "        time.sleep(0.001)\n",
    "        print(i,end='')\n",
    "def signup():\n",
    "    print(\"This is Signup page. Please enter your details:\")\n",
    "    acc=int(os.listdir('Bank/')[-1][0:4])\n",
    "    d={'Name':input(\"Enter you Name:\"), 'Balance':int(input(\"Balance in youe account :\")), 'pwd':getpass(\"Enter password: \")}\n",
    "    path=f\"Bank/{acc+1}.json\"\n",
    "    f=open(path,'w')\n",
    "    json.dumps(d,f)\n",
    "    f.close()\n",
    "    print(f\"successfully done! \\n Your Account No is {acc+1}\")\n",
    "    time.sleep(1)\n",
    "    print(\"Login your account\")\n",
    "    main()\n",
    "    \n",
    "def login():\n",
    "    print(\"Welcome to our bank.\".center(100,' '))\n",
    "    acc=input(\"Enter your account no: \")\n",
    "    path=acc+'.json'\n",
    "    if path in os.listdir('Bank/'):\n",
    "        f=open(f'Bank/{path}')\n",
    "        data=json.load(f)\n",
    "        f.close()\n",
    "        pwd=input(\"Enter your password:\")\n",
    "        if pwd==data['Pwd']:\n",
    "            print(\"Login Successfully\")\n",
    "            s=f\"\\n1. Credit\\t2. Debit\\t3. Update Password\\t4. Check Balance\"\n",
    "            print(s)\n",
    "            ch=int(input(\"Enter your Choice: \"))\n",
    "            if ch==1:credit(acc)\n",
    "            elif ch==2: debit(acc)\n",
    "            elif ch==3: uppwd()    \n",
    "            else: checkbal()                  \n",
    "        else:\n",
    "            print(\"Invalid Password! Please Re-Enter your password\")\n",
    "            login()\n",
    "def credit(a):\n",
    "    money=int(input(\"Enter the Credit Amount: \"))\n",
    "    path=os.listdir('Bank/')\n",
    "    f=open(path,'w')\n",
    "    data=json.load(f)\n",
    "    data[a]['balance']=int(data[a]['balance']+money)\n",
    "    f.close()\n",
    "    print(\"Amount credited\")\n",
    "    time.sleep(2)\n",
    "    ch=int(input(\"1.Check balance \\n 2.If u wish to go to login Page\"))\n",
    "    if ch==1: checkbal()\n",
    "    else: login()\n",
    "    \n",
    "def debit(a):\n",
    "    amount=int9input(\"Enter thedebit amount: \")\n",
    "    path=os.listdir('Bank/')\n",
    "    f=open(path,'w')\n",
    "    data=json.load(f)\n",
    "    if money<=data[a]['balance']:\n",
    "        data[a]['balance']=int(data[a]['balance']-money)\n",
    "    else: print(\"Insufficient Balance\")    \n",
    "    f.close()    \n",
    "\n",
    "def uppwd():\n",
    "    acc=int(input(\"Enter the account no: \"))\n",
    "    oldpwd=input(\"Enter your old password : \")\n",
    "    newpwd=input(\"Enter your new password : \")\n",
    "    path=os.listdir('Bank/')\n",
    "    f=open(path,'w')\n",
    "    data=json.load(f)\n",
    "    data[acc]['pwd']=newpwd\n",
    "    f.close()\n",
    "    print(\"Successfully Updated Password\")\n",
    "    login()\n",
    "    \n",
    "    \n",
    "def checkbal():\n",
    "    acc=int(input('Enter the account no: '))\n",
    "    path=os.listdir('Bank/')\n",
    "    f=open(path,'r')\n",
    "    data=json.load(f)\n",
    "    print(f\"Balance: {data[acc]['pwd']}\")\n",
    "    login()\n",
    "    "
   ]
  },
  {
   "cell_type": "code",
   "execution_count": 16,
   "metadata": {},
   "outputs": [
    {
     "name": "stdout",
     "output_type": "stream",
     "text": [
      "                                                                                                                                                                                                                                          ------Welcom To Our Bank-------                                                                                                                                                                                                                                           \n",
      "1.Signup\n",
      "2.Login\n",
      "3.Exit\n",
      "Enter you choice: 2\n",
      "                                        Welcome to our bank.                                        \n",
      "Enter your account no: 1001\n",
      "Enter your password:1234\n",
      "Invalid Password! Please Re-Enter your password\n",
      "                                        Welcome to our bank.                                        \n",
      "Enter your account no: 1001\n",
      "Enter your password:redhat@123\n",
      "Login Successfully\n",
      "\n",
      "1. Credit\t2. Debit\t3. Update Password\t4. Check Balance\n",
      "Enter your Choice: 1\n",
      "Enter the Credit Amount: 10000\n"
     ]
    },
    {
     "ename": "TypeError",
     "evalue": "expected str, bytes or os.PathLike object, not list",
     "output_type": "error",
     "traceback": [
      "\u001b[1;31m---------------------------------------------------------------------------\u001b[0m",
      "\u001b[1;31mTypeError\u001b[0m                                 Traceback (most recent call last)",
      "\u001b[1;32m<ipython-input-16-263240bbee7e>\u001b[0m in \u001b[0;36m<module>\u001b[1;34m\u001b[0m\n\u001b[1;32m----> 1\u001b[1;33m \u001b[0mmain\u001b[0m\u001b[1;33m(\u001b[0m\u001b[1;33m)\u001b[0m\u001b[1;33m\u001b[0m\u001b[1;33m\u001b[0m\u001b[0m\n\u001b[0m",
      "\u001b[1;32m<ipython-input-15-2c26eba275da>\u001b[0m in \u001b[0;36mmain\u001b[1;34m()\u001b[0m\n\u001b[0;32m     16\u001b[0m     \u001b[0mch\u001b[0m\u001b[1;33m=\u001b[0m\u001b[0mint\u001b[0m\u001b[1;33m(\u001b[0m\u001b[0minput\u001b[0m\u001b[1;33m(\u001b[0m\u001b[1;34m\"Enter you choice: \"\u001b[0m\u001b[1;33m)\u001b[0m\u001b[1;33m)\u001b[0m\u001b[1;33m\u001b[0m\u001b[1;33m\u001b[0m\u001b[0m\n\u001b[0;32m     17\u001b[0m     \u001b[1;32mif\u001b[0m \u001b[0mch\u001b[0m\u001b[1;33m==\u001b[0m\u001b[1;36m1\u001b[0m\u001b[1;33m:\u001b[0m\u001b[0msignup\u001b[0m\u001b[1;33m(\u001b[0m\u001b[1;33m)\u001b[0m\u001b[1;33m\u001b[0m\u001b[1;33m\u001b[0m\u001b[0m\n\u001b[1;32m---> 18\u001b[1;33m     \u001b[1;32melif\u001b[0m \u001b[0mch\u001b[0m\u001b[1;33m==\u001b[0m\u001b[1;36m2\u001b[0m\u001b[1;33m:\u001b[0m\u001b[0mlogin\u001b[0m\u001b[1;33m(\u001b[0m\u001b[1;33m)\u001b[0m\u001b[1;33m\u001b[0m\u001b[1;33m\u001b[0m\u001b[0m\n\u001b[0m\u001b[0;32m     19\u001b[0m     \u001b[1;32melse\u001b[0m\u001b[1;33m:\u001b[0m     \u001b[0mexit\u001b[0m\u001b[1;33m(\u001b[0m\u001b[1;33m)\u001b[0m\u001b[1;33m\u001b[0m\u001b[1;33m\u001b[0m\u001b[0m\n\u001b[0;32m     20\u001b[0m \u001b[1;32mdef\u001b[0m \u001b[0mexit\u001b[0m\u001b[1;33m(\u001b[0m\u001b[1;33m)\u001b[0m\u001b[1;33m:\u001b[0m\u001b[1;33m\u001b[0m\u001b[1;33m\u001b[0m\u001b[0m\n",
      "\u001b[1;32m<ipython-input-15-2c26eba275da>\u001b[0m in \u001b[0;36mlogin\u001b[1;34m()\u001b[0m\n\u001b[0;32m     56\u001b[0m         \u001b[1;32melse\u001b[0m\u001b[1;33m:\u001b[0m\u001b[1;33m\u001b[0m\u001b[1;33m\u001b[0m\u001b[0m\n\u001b[0;32m     57\u001b[0m             \u001b[0mprint\u001b[0m\u001b[1;33m(\u001b[0m\u001b[1;34m\"Invalid Password! Please Re-Enter your password\"\u001b[0m\u001b[1;33m)\u001b[0m\u001b[1;33m\u001b[0m\u001b[1;33m\u001b[0m\u001b[0m\n\u001b[1;32m---> 58\u001b[1;33m             \u001b[0mlogin\u001b[0m\u001b[1;33m(\u001b[0m\u001b[1;33m)\u001b[0m\u001b[1;33m\u001b[0m\u001b[1;33m\u001b[0m\u001b[0m\n\u001b[0m\u001b[0;32m     59\u001b[0m \u001b[1;32mdef\u001b[0m \u001b[0mcredit\u001b[0m\u001b[1;33m(\u001b[0m\u001b[0ma\u001b[0m\u001b[1;33m)\u001b[0m\u001b[1;33m:\u001b[0m\u001b[1;33m\u001b[0m\u001b[1;33m\u001b[0m\u001b[0m\n\u001b[0;32m     60\u001b[0m     \u001b[0mmoney\u001b[0m\u001b[1;33m=\u001b[0m\u001b[0mint\u001b[0m\u001b[1;33m(\u001b[0m\u001b[0minput\u001b[0m\u001b[1;33m(\u001b[0m\u001b[1;34m\"Enter the Credit Amount: \"\u001b[0m\u001b[1;33m)\u001b[0m\u001b[1;33m)\u001b[0m\u001b[1;33m\u001b[0m\u001b[1;33m\u001b[0m\u001b[0m\n",
      "\u001b[1;32m<ipython-input-15-2c26eba275da>\u001b[0m in \u001b[0;36mlogin\u001b[1;34m()\u001b[0m\n\u001b[0;32m     50\u001b[0m             \u001b[0mprint\u001b[0m\u001b[1;33m(\u001b[0m\u001b[0ms\u001b[0m\u001b[1;33m)\u001b[0m\u001b[1;33m\u001b[0m\u001b[1;33m\u001b[0m\u001b[0m\n\u001b[0;32m     51\u001b[0m             \u001b[0mch\u001b[0m\u001b[1;33m=\u001b[0m\u001b[0mint\u001b[0m\u001b[1;33m(\u001b[0m\u001b[0minput\u001b[0m\u001b[1;33m(\u001b[0m\u001b[1;34m\"Enter your Choice: \"\u001b[0m\u001b[1;33m)\u001b[0m\u001b[1;33m)\u001b[0m\u001b[1;33m\u001b[0m\u001b[1;33m\u001b[0m\u001b[0m\n\u001b[1;32m---> 52\u001b[1;33m             \u001b[1;32mif\u001b[0m \u001b[0mch\u001b[0m\u001b[1;33m==\u001b[0m\u001b[1;36m1\u001b[0m\u001b[1;33m:\u001b[0m\u001b[0mcredit\u001b[0m\u001b[1;33m(\u001b[0m\u001b[0macc\u001b[0m\u001b[1;33m)\u001b[0m\u001b[1;33m\u001b[0m\u001b[1;33m\u001b[0m\u001b[0m\n\u001b[0m\u001b[0;32m     53\u001b[0m             \u001b[1;32melif\u001b[0m \u001b[0mch\u001b[0m\u001b[1;33m==\u001b[0m\u001b[1;36m2\u001b[0m\u001b[1;33m:\u001b[0m \u001b[0mdebit\u001b[0m\u001b[1;33m(\u001b[0m\u001b[0macc\u001b[0m\u001b[1;33m)\u001b[0m\u001b[1;33m\u001b[0m\u001b[1;33m\u001b[0m\u001b[0m\n\u001b[0;32m     54\u001b[0m             \u001b[1;32melif\u001b[0m \u001b[0mch\u001b[0m\u001b[1;33m==\u001b[0m\u001b[1;36m3\u001b[0m\u001b[1;33m:\u001b[0m \u001b[0muppwd\u001b[0m\u001b[1;33m(\u001b[0m\u001b[1;33m)\u001b[0m\u001b[1;33m\u001b[0m\u001b[1;33m\u001b[0m\u001b[0m\n",
      "\u001b[1;32m<ipython-input-15-2c26eba275da>\u001b[0m in \u001b[0;36mcredit\u001b[1;34m(a)\u001b[0m\n\u001b[0;32m     60\u001b[0m     \u001b[0mmoney\u001b[0m\u001b[1;33m=\u001b[0m\u001b[0mint\u001b[0m\u001b[1;33m(\u001b[0m\u001b[0minput\u001b[0m\u001b[1;33m(\u001b[0m\u001b[1;34m\"Enter the Credit Amount: \"\u001b[0m\u001b[1;33m)\u001b[0m\u001b[1;33m)\u001b[0m\u001b[1;33m\u001b[0m\u001b[1;33m\u001b[0m\u001b[0m\n\u001b[0;32m     61\u001b[0m     \u001b[0mpath\u001b[0m\u001b[1;33m=\u001b[0m\u001b[0mos\u001b[0m\u001b[1;33m.\u001b[0m\u001b[0mlistdir\u001b[0m\u001b[1;33m(\u001b[0m\u001b[1;34m'Bank/'\u001b[0m\u001b[1;33m)\u001b[0m\u001b[1;33m\u001b[0m\u001b[1;33m\u001b[0m\u001b[0m\n\u001b[1;32m---> 62\u001b[1;33m     \u001b[0mf\u001b[0m\u001b[1;33m=\u001b[0m\u001b[0mopen\u001b[0m\u001b[1;33m(\u001b[0m\u001b[0mpath\u001b[0m\u001b[1;33m,\u001b[0m\u001b[1;34m'w'\u001b[0m\u001b[1;33m)\u001b[0m\u001b[1;33m\u001b[0m\u001b[1;33m\u001b[0m\u001b[0m\n\u001b[0m\u001b[0;32m     63\u001b[0m     \u001b[0mdata\u001b[0m\u001b[1;33m=\u001b[0m\u001b[0mjson\u001b[0m\u001b[1;33m.\u001b[0m\u001b[0mload\u001b[0m\u001b[1;33m(\u001b[0m\u001b[0mf\u001b[0m\u001b[1;33m)\u001b[0m\u001b[1;33m\u001b[0m\u001b[1;33m\u001b[0m\u001b[0m\n\u001b[0;32m     64\u001b[0m     \u001b[0mdata\u001b[0m\u001b[1;33m[\u001b[0m\u001b[0ma\u001b[0m\u001b[1;33m]\u001b[0m\u001b[1;33m[\u001b[0m\u001b[1;34m'balance'\u001b[0m\u001b[1;33m]\u001b[0m\u001b[1;33m=\u001b[0m\u001b[0mint\u001b[0m\u001b[1;33m(\u001b[0m\u001b[0mdata\u001b[0m\u001b[1;33m[\u001b[0m\u001b[0ma\u001b[0m\u001b[1;33m]\u001b[0m\u001b[1;33m[\u001b[0m\u001b[1;34m'balance'\u001b[0m\u001b[1;33m]\u001b[0m\u001b[1;33m+\u001b[0m\u001b[0mmoney\u001b[0m\u001b[1;33m)\u001b[0m\u001b[1;33m\u001b[0m\u001b[1;33m\u001b[0m\u001b[0m\n",
      "\u001b[1;31mTypeError\u001b[0m: expected str, bytes or os.PathLike object, not list"
     ]
    }
   ],
   "source": [
    "main()"
   ]
  },
  {
   "cell_type": "markdown",
   "metadata": {},
   "source": [
    "# os.mkdir('Bank/')"
   ]
  },
  {
   "cell_type": "code",
   "execution_count": 16,
   "metadata": {},
   "outputs": [
    {
     "data": {
      "text/plain": [
       "'C:\\\\Users\\\\Admin\\\\Grrass'"
      ]
     },
     "execution_count": 16,
     "metadata": {},
     "output_type": "execute_result"
    }
   ],
   "source": [
    "os.getcwd()"
   ]
  },
  {
   "cell_type": "code",
   "execution_count": 27,
   "metadata": {},
   "outputs": [
    {
     "name": "stdout",
     "output_type": "stream",
     "text": [
      "Enter you Name:a\n",
      "Balance in youe account :12000\n",
      "Enter password: ········\n",
      "Enter you Name:b\n",
      "Balance in youe account :5200\n",
      "Enter password: ········\n",
      "Enter you Name:c\n",
      "Balance in youe account :8500\n",
      "Enter password: ········\n",
      "Enter you Name:d\n",
      "Balance in youe account :7800\n",
      "Enter password: ········\n",
      "Enter you Name:e\n",
      "Balance in youe account :9500\n",
      "Enter password: ········\n",
      "Enter you Name:f\n",
      "Balance in youe account :4500\n",
      "Enter password: ········\n"
     ]
    }
   ],
   "source": [
    "for i in range(1234,1240):\n",
    "    d={'Name':input(\"Enter you Name:\"), 'Balance':int(input(\"Balance in youe account :\")), 'pwd':getpass(\"Enter password: \")}\n",
    "    path=f'Bank/{i}.json'\n",
    "    f=open(path,'w')\n",
    "    json.dump(d,f)\n",
    "    f.close"
   ]
  },
  {
   "cell_type": "code",
   "execution_count": 29,
   "metadata": {},
   "outputs": [
    {
     "data": {
      "text/plain": [
       "['1234,json',\n",
       " '1234.json',\n",
       " '1235,json',\n",
       " '1235.json',\n",
       " '1236,json',\n",
       " '1236.json',\n",
       " '1237,json',\n",
       " '1237.json',\n",
       " '1238,json',\n",
       " '1238.json',\n",
       " '1239,json',\n",
       " '1239.json']"
      ]
     },
     "execution_count": 29,
     "metadata": {},
     "output_type": "execute_result"
    }
   ],
   "source": [
    "os.listdir('Bank/')"
   ]
  },
  {
   "cell_type": "code",
   "execution_count": null,
   "metadata": {},
   "outputs": [],
   "source": [
    "\n",
    "os.listdir('Bank/{}')"
   ]
  },
  {
   "cell_type": "code",
   "execution_count": null,
   "metadata": {},
   "outputs": [],
   "source": []
  }
 ],
 "metadata": {
  "kernelspec": {
   "display_name": "Python 3",
   "language": "python",
   "name": "python3"
  },
  "language_info": {
   "codemirror_mode": {
    "name": "ipython",
    "version": 3
   },
   "file_extension": ".py",
   "mimetype": "text/x-python",
   "name": "python",
   "nbconvert_exporter": "python",
   "pygments_lexer": "ipython3",
   "version": "3.7.3"
  }
 },
 "nbformat": 4,
 "nbformat_minor": 2
}
