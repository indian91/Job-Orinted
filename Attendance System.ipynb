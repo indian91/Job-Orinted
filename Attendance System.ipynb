{
 "cells": [
  {
   "cell_type": "code",
   "execution_count": 1,
   "metadata": {},
   "outputs": [],
   "source": [
    "#File Handling----->read,write"
   ]
  },
  {
   "cell_type": "code",
   "execution_count": 2,
   "metadata": {},
   "outputs": [],
   "source": [
    "#percentage"
   ]
  },
  {
   "cell_type": "code",
   "execution_count": 3,
   "metadata": {},
   "outputs": [],
   "source": [
    "#JSON,PICKLE\n"
   ]
  },
  {
   "cell_type": "code",
   "execution_count": 1,
   "metadata": {},
   "outputs": [],
   "source": [
    "f=open('attandance.txt','w')\n",
    "import time"
   ]
  },
  {
   "cell_type": "code",
   "execution_count": 2,
   "metadata": {},
   "outputs": [],
   "source": [
    "s='Name\\tSachin\\tSamyak\\tRajat\\tNidhi\\tSimran\\tAnshul\\tsanjay\\tkushal\\tnikita\\tTulika'\n",
    "\n",
    "f.write(s)\n",
    "f.close()\n"
   ]
  },
  {
   "cell_type": "code",
   "execution_count": 5,
   "metadata": {},
   "outputs": [
    {
     "name": "stdout",
     "output_type": "stream",
     "text": [
      "Enter A for abscent and P for present\n",
      "SachinP\n",
      "SamyakP\n",
      "RajatP\n",
      "NidhiP\n",
      "SimranP\n",
      "AnshulP\n",
      "sanjayA\n",
      "kushalP\n",
      "nikitaA\n",
      "TulikaP\n"
     ]
    }
   ],
   "source": [
    "f=open('attandance.txt')\n",
    "data=f.read()\n",
    "f.close()\n",
    "data=data.split('\\n')\n",
    "data=data[0].split('\\t')\n",
    "f=open('attandance.txt','a')\n",
    "\n",
    "s=f\"\\n{time.strftime('%d-%m')}\"\n",
    "f.write(s)\n",
    "print('Enter A for abscent and P for present')\n",
    "for i in range(1,len(data)):\n",
    "    s='\\t'+input(f'{data[i]}').upper()\n",
    "    f.write(s)\n",
    "f.close()"
   ]
  },
  {
   "cell_type": "code",
   "execution_count": 6,
   "metadata": {},
   "outputs": [],
   "source": [
    "f=open('attandance.txt')"
   ]
  },
  {
   "cell_type": "code",
   "execution_count": 7,
   "metadata": {},
   "outputs": [],
   "source": [
    "data=f.read()"
   ]
  },
  {
   "cell_type": "code",
   "execution_count": 8,
   "metadata": {},
   "outputs": [
    {
     "name": "stdout",
     "output_type": "stream",
     "text": [
      "Name\tSachin\tSamyak\tRajat\tNidhi\tSimran\tAnshul\tsanjay\tkushal\tnikita\tTulika\n",
      "14-06\tP\tP\tA\tA\tP\tP\tP\tP\tP\tP\n",
      "14-06\tA\tA\tP\tP\tA\tA\tA\tA\tA\tA\n",
      "14-06\tP\tP\tP\tP\tP\tP\tA\tP\tA\tP\n"
     ]
    }
   ],
   "source": [
    "print(data)"
   ]
  },
  {
   "cell_type": "code",
   "execution_count": 9,
   "metadata": {},
   "outputs": [],
   "source": [
    "data=data.split('\\n')"
   ]
  },
  {
   "cell_type": "code",
   "execution_count": 10,
   "metadata": {},
   "outputs": [
    {
     "name": "stdout",
     "output_type": "stream",
     "text": [
      "['Name\\tSachin\\tSamyak\\tRajat\\tNidhi\\tSimran\\tAnshul\\tsanjay\\tkushal\\tnikita\\tTulika', '14-06\\tP\\tP\\tA\\tA\\tP\\tP\\tP\\tP\\tP\\tP', '14-06\\tA\\tA\\tP\\tP\\tA\\tA\\tA\\tA\\tA\\tA', '14-06\\tP\\tP\\tP\\tP\\tP\\tP\\tA\\tP\\tA\\tP']\n"
     ]
    }
   ],
   "source": [
    "print(data)"
   ]
  },
  {
   "cell_type": "code",
   "execution_count": 11,
   "metadata": {},
   "outputs": [
    {
     "data": {
      "text/plain": [
       "['Name\\tSachin\\tSamyak\\tRajat\\tNidhi\\tSimran\\tAnshul\\tsanjay\\tkushal\\tnikita\\tTulika',\n",
       " '14-06\\tP\\tP\\tA\\tA\\tP\\tP\\tP\\tP\\tP\\tP',\n",
       " '14-06\\tA\\tA\\tP\\tP\\tA\\tA\\tA\\tA\\tA\\tA',\n",
       " '14-06\\tP\\tP\\tP\\tP\\tP\\tP\\tA\\tP\\tA\\tP']"
      ]
     },
     "execution_count": 11,
     "metadata": {},
     "output_type": "execute_result"
    }
   ],
   "source": [
    "data"
   ]
  },
  {
   "cell_type": "code",
   "execution_count": 13,
   "metadata": {},
   "outputs": [],
   "source": [
    "data=data.split('\\n')\n",
    "l=list()\n",
    "for i in data:\n",
    "    l.append(i.split('\\t'))"
   ]
  },
  {
   "cell_type": "code",
   "execution_count": 15,
   "metadata": {},
   "outputs": [
    {
     "name": "stdout",
     "output_type": "stream",
     "text": [
      "[['Name', 'Sachin', 'Samyak', 'Rajat', 'Nidhi', 'Simran', 'Anshul', 'sanjay', 'kushal', 'nikita', 'Tulika'], ['14-06', 'P', 'P', 'A', 'A', 'P', 'P', 'P', 'P', 'P', 'P'], ['14-06', 'A', 'A', 'P', 'P', 'A', 'A', 'A', 'A', 'A', 'A'], ['14-06', 'P', 'P', 'P', 'P', 'P', 'P', 'A', 'P', 'A', 'P']]\n"
     ]
    }
   ],
   "source": [
    "print(l)"
   ]
  },
  {
   "cell_type": "code",
   "execution_count": 25,
   "metadata": {},
   "outputs": [
    {
     "name": "stdout",
     "output_type": "stream",
     "text": [
      "Sachin:\tPresent---->2\tAbscent---->1\n",
      "Samyak:\tPresent---->2\tAbscent---->1\n",
      "Rajat:\tPresent---->2\tAbscent---->1\n",
      "Nidhi:\tPresent---->2\tAbscent---->1\n",
      "Simran:\tPresent---->2\tAbscent---->1\n",
      "Anshul:\tPresent---->2\tAbscent---->1\n",
      "sanjay:\tPresent---->1\tAbscent---->2\n",
      "kushal:\tPresent---->2\tAbscent---->1\n",
      "nikita:\tPresent---->1\tAbscent---->2\n"
     ]
    }
   ],
   "source": [
    "data=data.split('\\n')\n",
    "l=list()\n",
    "for i in data:\n",
    "    l.append(i.split('\\t'))\n",
    "for i in range(1,10):\n",
    "    l1=list()\n",
    "    for j in range(len(l)):\n",
    "        l1.append(l[j][i])\n",
    "    pre=l1.count('P')\n",
    "    abc=l1.count('A')\n",
    "    print(f\"{l1[0]}:\\tPresent---->{pre}\\tAbscent---->{abc}\")"
   ]
  },
  {
   "cell_type": "code",
   "execution_count": 47,
   "metadata": {},
   "outputs": [],
   "source": [
    "def main():\n",
    "    s='''1.Enter Student\\n2.Take Attandance\\n3.Count Attandance\\n4.Exit'''\n",
    "    print(s)\n",
    "    ch=int(input('Enter choice form above'))\n",
    "    if ch==1:\n",
    "        enter_student()\n",
    "    elif ch==2:\n",
    "        take_attandance()\n",
    "    elif ch==3:\n",
    "        count_attandance()\n",
    "    else:\n",
    "        exit()\n",
    "def exit():\n",
    "    print('Bye Bye')"
   ]
  },
  {
   "cell_type": "code",
   "execution_count": 26,
   "metadata": {},
   "outputs": [],
   "source": [
    "def enter_student():\n",
    "    f=open('attandance1.txt','w')\n",
    "    s='Name'\n",
    "    f.write(s)\n",
    "    st=int(input('Enter the number of student'))\n",
    "    for i in range(st):\n",
    "        s='\\t'+input('Enter Name')\n",
    "        f.write(s)\n",
    "    f.close()"
   ]
  },
  {
   "cell_type": "code",
   "execution_count": 27,
   "metadata": {},
   "outputs": [],
   "source": [
    "def take_attandance():\n",
    "    f=open('attandance1.txt')\n",
    "    data=f.read()\n",
    "    data=data.split('\\n')[0].split('\\t')\n",
    "    f=open('attandance1.txt','a')\n",
    "    s='\\n'+time.strftime('%d-%m')\n",
    "    f.write(s)\n",
    "    print('Enter A for Abscent and P for Present')\n",
    "    for i in range(1,len(data)):\n",
    "        s='\\t'+input(f'{data[i]}--->')\n",
    "        f.write(s)\n",
    "    f.close()"
   ]
  },
  {
   "cell_type": "code",
   "execution_count": 34,
   "metadata": {},
   "outputs": [],
   "source": [
    "def count_attandance():\n",
    "    f=open('attandance1.txt')\n",
    "    data=f.read()\n",
    "    data=data.split('\\n')\n",
    "    l=list()\n",
    "    for i in data:\n",
    "        l.append(i.split('\\t'))\n",
    "    for i in range(1,len(data[0].split('\\t'))):\n",
    "        l1=list()\n",
    "        for j in range(len(l)):\n",
    "            l1.append(l[j][i])\n",
    "        pre=l1.count('P')\n",
    "        abc=l1.count('A')\n",
    "        print(f\"{l1[0]}:\\tPresent---->{pre}\\tAbscent---->{abc}\")"
   ]
  },
  {
   "cell_type": "code",
   "execution_count": 29,
   "metadata": {},
   "outputs": [
    {
     "name": "stdout",
     "output_type": "stream",
     "text": [
      "Enter the number of student5\n",
      "Enter NameB\n",
      "Enter NameC\n",
      "Enter NameD\n",
      "Enter NameE\n",
      "Enter NameF\n"
     ]
    }
   ],
   "source": [
    "enter_student()"
   ]
  },
  {
   "cell_type": "code",
   "execution_count": 30,
   "metadata": {},
   "outputs": [
    {
     "name": "stdout",
     "output_type": "stream",
     "text": [
      "Name\tB\tC\tD\tE\tF\n"
     ]
    }
   ],
   "source": [
    "!type attandance1.txt"
   ]
  },
  {
   "cell_type": "code",
   "execution_count": 31,
   "metadata": {},
   "outputs": [
    {
     "name": "stdout",
     "output_type": "stream",
     "text": [
      "Enter A for Abscent and P for Present\n",
      "B--->A\n",
      "C--->P\n",
      "D--->A\n",
      "E--->P\n",
      "F--->P\n"
     ]
    }
   ],
   "source": [
    "take_attandance()"
   ]
  },
  {
   "cell_type": "code",
   "execution_count": 32,
   "metadata": {},
   "outputs": [
    {
     "name": "stdout",
     "output_type": "stream",
     "text": [
      "Name\tB\tC\tD\tE\tF\n",
      "14-06\tA\tP\tA\tP\tP\n"
     ]
    }
   ],
   "source": [
    "!type attandance1.txt"
   ]
  },
  {
   "cell_type": "code",
   "execution_count": 35,
   "metadata": {},
   "outputs": [
    {
     "name": "stdout",
     "output_type": "stream",
     "text": [
      "B:\tPresent---->0\tAbscent---->1\n",
      "C:\tPresent---->1\tAbscent---->0\n",
      "D:\tPresent---->0\tAbscent---->1\n",
      "E:\tPresent---->1\tAbscent---->0\n",
      "F:\tPresent---->1\tAbscent---->0\n"
     ]
    }
   ],
   "source": [
    "count_attandance()"
   ]
  },
  {
   "cell_type": "code",
   "execution_count": 36,
   "metadata": {},
   "outputs": [],
   "source": [
    "f=open('attandance1.txt')"
   ]
  },
  {
   "cell_type": "code",
   "execution_count": 37,
   "metadata": {},
   "outputs": [],
   "source": [
    "data=f.read()"
   ]
  },
  {
   "cell_type": "code",
   "execution_count": 38,
   "metadata": {},
   "outputs": [
    {
     "data": {
      "text/plain": [
       "'Name\\tB\\tC\\tD\\tE\\tF\\n14-06\\tA\\tP\\tA\\tP\\tP'"
      ]
     },
     "execution_count": 38,
     "metadata": {},
     "output_type": "execute_result"
    }
   ],
   "source": [
    "data"
   ]
  },
  {
   "cell_type": "code",
   "execution_count": 39,
   "metadata": {},
   "outputs": [
    {
     "name": "stdout",
     "output_type": "stream",
     "text": [
      "Name\tB\tC\tD\tE\tF\n",
      "14-06\tA\tP\tA\tP\tP\n"
     ]
    }
   ],
   "source": [
    "print(data)"
   ]
  },
  {
   "cell_type": "code",
   "execution_count": 44,
   "metadata": {},
   "outputs": [],
   "source": [
    "l=data.split('\\n')[0].split('\\t')"
   ]
  },
  {
   "cell_type": "code",
   "execution_count": 45,
   "metadata": {},
   "outputs": [
    {
     "data": {
      "text/plain": [
       "['Name', 'B', 'C', 'D', 'E', 'F']"
      ]
     },
     "execution_count": 45,
     "metadata": {},
     "output_type": "execute_result"
    }
   ],
   "source": [
    "l"
   ]
  },
  {
   "cell_type": "code",
   "execution_count": 46,
   "metadata": {},
   "outputs": [
    {
     "name": "stdout",
     "output_type": "stream",
     "text": [
      "B\n",
      "C\n",
      "D\n",
      "E\n",
      "F\n"
     ]
    }
   ],
   "source": [
    "for i in range(1,len(l)):\n",
    "    print(l[i])"
   ]
  },
  {
   "cell_type": "code",
   "execution_count": 48,
   "metadata": {},
   "outputs": [
    {
     "name": "stdout",
     "output_type": "stream",
     "text": [
      "1.Enter Student\n",
      "2.Take Attandance\n",
      "3.Count Attandance\n",
      "4.Exit\n",
      "Enter choice form above1\n",
      "Enter the number of student3\n",
      "Enter NameB\n",
      "Enter NameC\n",
      "Enter NameD\n"
     ]
    }
   ],
   "source": [
    "main()"
   ]
  },
  {
   "cell_type": "code",
   "execution_count": 50,
   "metadata": {},
   "outputs": [
    {
     "name": "stdout",
     "output_type": "stream",
     "text": [
      "1.Enter Student\n",
      "2.Take Attandance\n",
      "3.Count Attandance\n",
      "4.Exit\n",
      "Enter choice form above2\n",
      "Enter A for Abscent and P for Present\n",
      "B--->P\n",
      "C--->A\n",
      "D--->P\n"
     ]
    }
   ],
   "source": [
    "main()"
   ]
  },
  {
   "cell_type": "code",
   "execution_count": 51,
   "metadata": {},
   "outputs": [
    {
     "name": "stdout",
     "output_type": "stream",
     "text": [
      "1.Enter Student\n",
      "2.Take Attandance\n",
      "3.Count Attandance\n",
      "4.Exit\n",
      "Enter choice form above3\n",
      "B:\tPresent---->1\tAbscent---->1\n",
      "C:\tPresent---->1\tAbscent---->1\n",
      "D:\tPresent---->2\tAbscent---->0\n"
     ]
    }
   ],
   "source": [
    "main()"
   ]
  },
  {
   "cell_type": "code",
   "execution_count": null,
   "metadata": {},
   "outputs": [],
   "source": []
  }
 ],
 "metadata": {
  "kernelspec": {
   "display_name": "Python 3",
   "language": "python",
   "name": "python3"
  },
  "language_info": {
   "codemirror_mode": {
    "name": "ipython",
    "version": 3
   },
   "file_extension": ".py",
   "mimetype": "text/x-python",
   "name": "python",
   "nbconvert_exporter": "python",
   "pygments_lexer": "ipython3",
   "version": "3.7.3"
  }
 },
 "nbformat": 4,
 "nbformat_minor": 2
}
