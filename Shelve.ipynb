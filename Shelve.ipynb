{
 "cells": [
  {
   "cell_type": "code",
   "execution_count": 1,
   "metadata": {},
   "outputs": [],
   "source": [
    "#Log File---->"
   ]
  },
  {
   "cell_type": "code",
   "execution_count": 13,
   "metadata": {},
   "outputs": [],
   "source": [
    "import time\n",
    "f=open('log.txt','w')\n",
    "\n",
    "f.write('*Log Data*'.center(120,' '))\n",
    "\n",
    "s=f\"\\nTime\\t\\tDiscription\"\n",
    "f.write(s)\n",
    "\n",
    "f.close()"
   ]
  },
  {
   "cell_type": "code",
   "execution_count": 14,
   "metadata": {},
   "outputs": [
    {
     "name": "stdout",
     "output_type": "stream",
     "text": [
      "                                                       *Log Data*                                                       \n",
      "Time\t\tDiscription\n"
     ]
    }
   ],
   "source": [
    "!type log.txt"
   ]
  },
  {
   "cell_type": "code",
   "execution_count": 15,
   "metadata": {},
   "outputs": [],
   "source": [
    "import shelve"
   ]
  },
  {
   "cell_type": "code",
   "execution_count": 20,
   "metadata": {},
   "outputs": [],
   "source": [
    "db=shelve.open('hello.db',writeback=True)"
   ]
  },
  {
   "cell_type": "code",
   "execution_count": 21,
   "metadata": {},
   "outputs": [],
   "source": [
    "db['1001']={'Name':'Sachin'}\n",
    "db['1002']={'Name':'Samyak'}\n",
    "\n",
    "db['last_acc']=1002"
   ]
  },
  {
   "cell_type": "code",
   "execution_count": 22,
   "metadata": {},
   "outputs": [],
   "source": [
    "db.close()"
   ]
  },
  {
   "cell_type": "code",
   "execution_count": 23,
   "metadata": {},
   "outputs": [
    {
     "name": "stdout",
     "output_type": "stream",
     "text": [
      "€\u0003}q\u0000X\u0004\u0000\u0000\u0000Nameq\u0001X\u0006\u0000\u0000\u0000Sachinq\u0002s.\u0000\u0000\u0000\u0000\u0000\u0000\u0000\u0000\u0000\u0000\u0000\u0000\u0000\u0000\u0000\u0000\u0000\u0000\u0000\u0000\u0000\u0000\u0000\u0000\u0000\u0000\u0000\u0000\u0000\u0000\u0000\u0000\u0000\u0000\u0000\u0000\u0000\u0000\u0000\u0000\u0000\u0000\u0000\u0000\u0000\u0000\u0000\u0000\u0000\u0000\u0000\u0000\u0000\u0000\u0000\u0000\u0000\u0000\u0000\u0000\u0000\u0000\u0000\u0000\u0000\u0000\u0000\u0000\u0000\u0000\u0000\u0000\u0000\u0000\u0000\u0000\u0000\u0000\u0000\u0000\u0000\u0000\u0000\u0000\u0000\u0000\u0000\u0000\u0000\u0000\u0000\u0000\u0000\u0000\u0000\u0000\u0000\u0000\u0000\u0000\u0000\u0000\u0000\u0000\u0000\u0000\u0000\u0000\u0000\u0000\u0000\u0000\u0000\u0000\u0000\u0000\u0000\u0000\u0000\u0000\u0000\u0000\u0000\u0000\u0000\u0000\u0000\u0000\u0000\u0000\u0000\u0000\u0000\u0000\u0000\u0000\u0000\u0000\u0000\u0000\u0000\u0000\u0000\u0000\u0000\u0000\u0000\u0000\u0000\u0000\u0000\u0000\u0000\u0000\u0000\u0000\u0000\u0000\u0000\u0000\u0000\u0000\u0000\u0000\u0000\u0000\u0000\u0000\u0000\u0000\u0000\u0000\u0000\u0000\u0000\u0000\u0000\u0000\u0000\u0000\u0000\u0000\u0000\u0000\u0000\u0000\u0000\u0000\u0000\u0000\u0000\u0000\u0000\u0000\u0000\u0000\u0000\u0000\u0000\u0000\u0000\u0000\u0000\u0000\u0000\u0000\u0000\u0000\u0000\u0000\u0000\u0000\u0000\u0000\u0000\u0000\u0000\u0000\u0000\u0000\u0000\u0000\u0000\u0000\u0000\u0000\u0000\u0000\u0000\u0000\u0000\u0000\u0000\u0000\u0000\u0000\u0000\u0000\u0000\u0000\u0000\u0000\u0000\u0000\u0000\u0000\u0000\u0000\u0000\u0000\u0000\u0000\u0000\u0000\u0000\u0000\u0000\u0000\u0000\u0000\u0000\u0000\u0000\u0000\u0000\u0000\u0000\u0000\u0000\u0000\u0000\u0000\u0000\u0000\u0000\u0000\u0000\u0000\u0000\u0000\u0000\u0000\u0000\u0000\u0000\u0000\u0000\u0000\u0000\u0000\u0000\u0000\u0000\u0000\u0000\u0000\u0000\u0000\u0000\u0000\u0000\u0000\u0000\u0000\u0000\u0000\u0000\u0000\u0000\u0000\u0000\u0000\u0000\u0000\u0000\u0000\u0000\u0000\u0000\u0000\u0000\u0000\u0000\u0000\u0000\u0000\u0000\u0000\u0000\u0000\u0000\u0000\u0000\u0000\u0000\u0000\u0000\u0000\u0000\u0000\u0000\u0000\u0000\u0000\u0000\u0000\u0000\u0000\u0000\u0000\u0000\u0000\u0000\u0000\u0000\u0000\u0000\u0000\u0000\u0000\u0000\u0000\u0000\u0000\u0000\u0000\u0000\u0000\u0000\u0000\u0000\u0000\u0000\u0000\u0000\u0000\u0000\u0000\u0000\u0000\u0000\u0000\u0000\u0000\u0000\u0000\u0000\u0000\u0000\u0000\u0000\u0000\u0000\u0000\u0000\u0000\u0000\u0000\u0000\u0000\u0000\u0000\u0000\u0000\u0000\u0000\u0000\u0000\u0000\u0000\u0000\u0000\u0000\u0000\u0000\u0000\u0000\u0000\u0000\u0000\u0000\u0000\u0000\u0000\u0000\u0000\u0000\u0000\u0000\u0000\u0000\u0000\u0000\u0000\u0000\u0000\u0000\u0000\u0000\u0000\u0000\u0000\u0000\u0000\u0000\u0000\u0000\u0000\u0000\u0000\u0000\u0000\u0000\u0000\u0000\u0000\u0000\u0000\u0000\u0000\u0000\u0000\u0000\u0000\u0000\u0000\u0000\u0000\u0000\u0000\u0000\u0000\u0000\u0000\u0000\u0000\u0000\u0000\u0000\u0000\u0000€\u0003}q\u0000X\u0004\u0000\u0000\u0000Nameq\u0001X\u0006\u0000\u0000\u0000Samyakq\u0002s.\u0000\u0000\u0000\u0000\u0000\u0000\u0000\u0000\u0000\u0000\u0000\u0000\u0000\u0000\u0000\u0000\u0000\u0000\u0000\u0000\u0000\u0000\u0000\u0000\u0000\u0000\u0000\u0000\u0000\u0000\u0000\u0000\u0000\u0000\u0000\u0000\u0000\u0000\u0000\u0000\u0000\u0000\u0000\u0000\u0000\u0000\u0000\u0000\u0000\u0000\u0000\u0000\u0000\u0000\u0000\u0000\u0000\u0000\u0000\u0000\u0000\u0000\u0000\u0000\u0000\u0000\u0000\u0000\u0000\u0000\u0000\u0000\u0000\u0000\u0000\u0000\u0000\u0000\u0000\u0000\u0000\u0000\u0000\u0000\u0000\u0000\u0000\u0000\u0000\u0000\u0000\u0000\u0000\u0000\u0000\u0000\u0000\u0000\u0000\u0000\u0000\u0000\u0000\u0000\u0000\u0000\u0000\u0000\u0000\u0000\u0000\u0000\u0000\u0000\u0000\u0000\u0000\u0000\u0000\u0000\u0000\u0000\u0000\u0000\u0000\u0000\u0000\u0000\u0000\u0000\u0000\u0000\u0000\u0000\u0000\u0000\u0000\u0000\u0000\u0000\u0000\u0000\u0000\u0000\u0000\u0000\u0000\u0000\u0000\u0000\u0000\u0000\u0000\u0000\u0000\u0000\u0000\u0000\u0000\u0000\u0000\u0000\u0000\u0000\u0000\u0000\u0000\u0000\u0000\u0000\u0000\u0000\u0000\u0000\u0000\u0000\u0000\u0000\u0000\u0000\u0000\u0000\u0000\u0000\u0000\u0000\u0000\u0000\u0000\u0000\u0000\u0000\u0000\u0000\u0000\u0000\u0000\u0000\u0000\u0000\u0000\u0000\u0000\u0000\u0000\u0000\u0000\u0000\u0000\u0000\u0000\u0000\u0000\u0000\u0000\u0000\u0000\u0000\u0000\u0000\u0000\u0000\u0000\u0000\u0000\u0000\u0000\u0000\u0000\u0000\u0000\u0000\u0000\u0000\u0000\u0000\u0000\u0000\u0000\u0000\u0000\u0000\u0000\u0000\u0000\u0000\u0000\u0000\u0000\u0000\u0000\u0000\u0000\u0000\u0000\u0000\u0000\u0000\u0000\u0000\u0000\u0000\u0000\u0000\u0000\u0000\u0000\u0000\u0000\u0000\u0000\u0000\u0000\u0000\u0000\u0000\u0000\u0000\u0000\u0000\u0000\u0000\u0000\u0000\u0000\u0000\u0000\u0000\u0000\u0000\u0000\u0000\u0000\u0000\u0000\u0000\u0000\u0000\u0000\u0000\u0000\u0000\u0000\u0000\u0000\u0000\u0000\u0000\u0000\u0000\u0000\u0000\u0000\u0000\u0000\u0000\u0000\u0000\u0000\u0000\u0000\u0000\u0000\u0000\u0000\u0000\u0000\u0000\u0000\u0000\u0000\u0000\u0000\u0000\u0000\u0000\u0000\u0000\u0000\u0000\u0000\u0000\u0000\u0000\u0000\u0000\u0000\u0000\u0000\u0000\u0000\u0000\u0000\u0000\u0000\u0000\u0000\u0000\u0000\u0000\u0000\u0000\u0000\u0000\u0000\u0000\u0000\u0000\u0000\u0000\u0000\u0000\u0000\u0000\u0000\u0000\u0000\u0000\u0000\u0000\u0000\u0000\u0000\u0000\u0000\u0000\u0000\u0000\u0000\u0000\u0000\u0000\u0000\u0000\u0000\u0000\u0000\u0000\u0000\u0000\u0000\u0000\u0000\u0000\u0000\u0000\u0000\u0000\u0000\u0000\u0000\u0000\u0000\u0000\u0000\u0000\u0000\u0000\u0000\u0000\u0000\u0000\u0000\u0000\u0000\u0000\u0000\u0000\u0000\u0000\u0000\u0000\u0000\u0000\u0000\u0000\u0000\u0000\u0000\u0000\u0000\u0000\u0000\u0000\u0000\u0000\u0000\u0000\u0000\u0000\u0000\u0000\u0000\u0000\u0000\u0000\u0000\u0000\u0000\u0000\u0000\u0000\u0000\u0000\u0000\u0000\u0000\u0000\u0000\u0000\u0000\u0000\u0000\u0000\u0000\u0000\u0000\u0000\u0000\u0000\u0000€\u0003Mê\u0003.\n"
     ]
    }
   ],
   "source": [
    "!type hello.db.dat"
   ]
  },
  {
   "cell_type": "code",
   "execution_count": 26,
   "metadata": {},
   "outputs": [],
   "source": [
    "def signup():\n",
    "    d={'Name':input()}\n",
    "    db=shelve.open('hello.db',writeback=True)\n",
    "    acc=db['last_acc']+1\n",
    "    db['last_acc']=acc\n",
    "    db[str(acc)]=d\n",
    "    db.close()"
   ]
  },
  {
   "cell_type": "code",
   "execution_count": 27,
   "metadata": {},
   "outputs": [
    {
     "name": "stdout",
     "output_type": "stream",
     "text": [
      "nidhi\n"
     ]
    }
   ],
   "source": [
    "signup()"
   ]
  },
  {
   "cell_type": "code",
   "execution_count": 29,
   "metadata": {},
   "outputs": [],
   "source": [
    "db=shelve.open('hello.db')"
   ]
  },
  {
   "cell_type": "code",
   "execution_count": 30,
   "metadata": {},
   "outputs": [
    {
     "data": {
      "text/plain": [
       "{'Name': 'Sachin'}"
      ]
     },
     "execution_count": 30,
     "metadata": {},
     "output_type": "execute_result"
    }
   ],
   "source": [
    "db['1001']"
   ]
  },
  {
   "cell_type": "code",
   "execution_count": 31,
   "metadata": {},
   "outputs": [
    {
     "data": {
      "text/plain": [
       "{'Name': 'Samyak'}"
      ]
     },
     "execution_count": 31,
     "metadata": {},
     "output_type": "execute_result"
    }
   ],
   "source": [
    "db['1002']"
   ]
  },
  {
   "cell_type": "code",
   "execution_count": 33,
   "metadata": {},
   "outputs": [
    {
     "data": {
      "text/plain": [
       "{'Name': 'nidhi'}"
      ]
     },
     "execution_count": 33,
     "metadata": {},
     "output_type": "execute_result"
    }
   ],
   "source": [
    "db['1003']"
   ]
  },
  {
   "cell_type": "code",
   "execution_count": 34,
   "metadata": {},
   "outputs": [
    {
     "data": {
      "text/plain": [
       "1003"
      ]
     },
     "execution_count": 34,
     "metadata": {},
     "output_type": "execute_result"
    }
   ],
   "source": [
    "db['last_acc']"
   ]
  },
  {
   "cell_type": "code",
   "execution_count": 35,
   "metadata": {},
   "outputs": [],
   "source": [
    "def login():\n",
    "    db=shelve.open()\n",
    "    acc=input('Enter account number')\n",
    "    if acc in db:\n",
    "        pwd=input('Enter Password')\n",
    "        if pwd==db[acc]['Pwd']:\n",
    "            print('Login')\n",
    "        else:\n",
    "            print('Invalid Password')\n",
    "    else:\n",
    "        print('Account not exist')"
   ]
  },
  {
   "cell_type": "code",
   "execution_count": 36,
   "metadata": {},
   "outputs": [],
   "source": [
    "import os"
   ]
  },
  {
   "cell_type": "code",
   "execution_count": 40,
   "metadata": {},
   "outputs": [],
   "source": [
    "db=shelve.open('supermarket/data.db',writeback=True)"
   ]
  },
  {
   "cell_type": "code",
   "execution_count": 42,
   "metadata": {},
   "outputs": [],
   "source": [
    "db['stationary']=stationary\n",
    "db['electronics']=electronics\n",
    "db['cosmatic']=cosmatic\n",
    "db['chocolate']=chocolate"
   ]
  },
  {
   "cell_type": "code",
   "execution_count": 43,
   "metadata": {},
   "outputs": [],
   "source": [
    "db.close()"
   ]
  },
  {
   "cell_type": "code",
   "execution_count": 37,
   "metadata": {},
   "outputs": [],
   "source": [
    "import time\n",
    "import shelve\n",
    "c=1\n",
    "l=['Catagory\\tProduct\\tBrand\\tQty.\\tRs./Qt.\\tTotal']\n",
    "def main():\n",
    "    global c\n",
    "    if c==1:\n",
    "        for i in '***WELCOME TO OUR SERVICE***'.center(120,' '):\n",
    "            time.sleep(0.001)\n",
    "            print(i,end='')\n",
    "        c+=1\n",
    "    s='''\\n1.Stationary\\n2.Electronics\\n3.Cosmatic\\n4.Chocolate\\n5.Exit'''\n",
    "    print(s)\n",
    "    ch=int(input('Enter choice from above: '))\n",
    "    if ch==1:\n",
    "        stationary()\n",
    "    elif ch==2:\n",
    "        electronics()\n",
    "    elif ch==3:\n",
    "        cosmatic()\n",
    "    elif ch==4:\n",
    "        chocolate()\n",
    "    else:\n",
    "        exit()\n",
    "def exit():\n",
    "    l1=list()\n",
    "    for i in l:\n",
    "        l1.append(i.split('\\t'))\n",
    "    for i in range(len(l1)):\n",
    "        for j in range(len(l1[i])):\n",
    "            print(f\"{l1[i][j]:>15}\",end='\\t')\n",
    "        print()\n",
    "        print('_'*100)\n",
    "    sum1=0\n",
    "    for i in range(1,len(l1)):\n",
    "        sum1+=int(l1[i][-1])\n",
    "    print('Grand Total: '.ljust(90,' '),sum1)\n",
    "    print('Thanks for using our sevice')\n",
    "    for i in '..........Exciting..........':\n",
    "        time.sleep(0.1)\n",
    "        print(i,end='')\n",
    "        \n",
    "        \n",
    "def stationary():\n",
    "    global l\n",
    "    db=shelve.open('supermarket/data.db',writeback=True)\n",
    "    c=1\n",
    "    for i in db['stationary']:\n",
    "        print(f\"{c}.{i}\")\n",
    "        c+=1\n",
    "    print(f\"{c}.Main\")\n",
    "    ch=int(input('Enter choice from above: '))\n",
    "    if ch==1:\n",
    "        c=1\n",
    "        for i in db['stationary']['pen']['brand']:\n",
    "            print(f\"{c}.{i}\")\n",
    "            c+=1\n",
    "        ch=int(input('select pen: '))\n",
    "        if ch==1:\n",
    "            print('Avialable prices are: ',db['stationary']['pen']['brand']['link']['price'])\n",
    "            price=int(input('Enter price from above'))\n",
    "            try:\n",
    "                index1=db['stationary']['pen']['brand']['link']['price'].index(price)\n",
    "                qt=int(input('Enter quantity of pen'))\n",
    "                db['stationary']['pen']['brand']['link']['stock'][index1]-=qt\n",
    "                l.append(f'Stationary\\tPen\\tLink\\t{qt}\\t{price}\\t{qt*price}')\n",
    "                print(f'You purchased {qt} set of pen')\n",
    "                db.close()\n",
    "                stationary()\n",
    "            except Exception:\n",
    "                print('Price not avialable')\n",
    "                stationary()\n",
    "            \n",
    "        elif ch==2:\n",
    "            print('Avialable prices are: ',db['stationary']['pen']['brand']['fine']['price'])\n",
    "            price=int(input('Enter price from above'))\n",
    "            try:\n",
    "                index1=db['stationary']['pen']['brand']['fine']['price'].index(price)\n",
    "                qt=int(input('Enter quantity of pen'))\n",
    "                db['stationary']['pen']['brand']['fine']['stock'][index1]-=qt\n",
    "                print(f'You purchased {qt} set of pen')\n",
    "                l.append(f'Stationary\\tPen\\tFine\\t{qt}\\t{price}\\t{qt*price}')\n",
    "                db.close()\n",
    "                stationary()\n",
    "            except Exception:\n",
    "                print('Price not avialable')\n",
    "                stationary()\n",
    "        else:\n",
    "            print('Not Avialable')\n",
    "            stationary()\n",
    "        \n",
    "        \n",
    "    elif ch==2:\n",
    "        c=1\n",
    "        for i in db['stationary']['register']['brand']:\n",
    "            print(f\"{c}.{i}\")\n",
    "            c+=1\n",
    "        ch=int(input('select register: '))\n",
    "        if ch==1:\n",
    "            print('Avialable prices are: ',db['stationary']['register']['brand']['classmate']['price'])\n",
    "            price=int(input('Enter price from above'))\n",
    "            try:\n",
    "                index1=db['stationary']['register']['brand']['classmate']['price'].index(price)\n",
    "                qt=int(input('Enter quantity of register'))\n",
    "                db['stationary']['register']['brand']['classmate']['stock'][index1]-=qt\n",
    "                l.append(f'Stationary\\tRegister\\tClassmate\\t{qt}\\t{price}\\t{qt*price}')\n",
    "                print(f'You purchased {qt} set of register')\n",
    "                db.close()\n",
    "                stationary()\n",
    "            except Exception:\n",
    "                print('Price not avialable')\n",
    "                stationary()\n",
    "            \n",
    "        elif ch==2:\n",
    "            print('Avialable prices are: ',db['stationary']['register']['brand']['icon']['price'])\n",
    "            price=int(input('Enter price from above'))\n",
    "            try:\n",
    "                index1=db['stationary']['register']['brand']['icon']['price'].index(price)\n",
    "                qt=int(input('Enter quantity of register'))\n",
    "                db['stationary']['register']['brand']['icon']['stock'][index1]-=qt\n",
    "                l.append(f'Stationary\\tRegister\\tIcon\\t{qt}\\t{price}\\t{qt*price}')\n",
    "                print(f'You purchased {qt} set of register')\n",
    "                db.close()\n",
    "                stationary()\n",
    "            except Exception:\n",
    "                print('Price not avialable')\n",
    "                stationary()\n",
    "        else:\n",
    "            print('Not Avialable')\n",
    "            stationary()\n",
    "    elif ch==3:\n",
    "        c=1\n",
    "        for i in db['stationary']['books']:\n",
    "            print(f\"{c}.{i}\")\n",
    "            c+=1\n",
    "        ch=int(input('select books: '))\n",
    "        if ch==1:\n",
    "            qt=int(input('How many set you required'))\n",
    "            db['stationary']['books']['class VI']['stock']-=qt\n",
    "            print(f'You purcahsed {qt} set of books')\n",
    "            price=db['stationary']['books']['class VI']['price']\n",
    "            l.append(f'Stationary\\tBook\\tNA\\t{qt}\\t{price}\\t{qt*price}')\n",
    "            db.close()\n",
    "            stationary()\n",
    "        elif ch==2:\n",
    "            qt=int(input('How many set you required'))\n",
    "            db['stationary']['books']['class VII']['stock']-=qt\n",
    "            print(f'You purcahsed {qt} set of books')\n",
    "            price=db['stationary']['books']['class VII']['price']\n",
    "            l.append(f'Stationary\\tBook\\tNA\\t{qt}\\t{price}\\t{qt*price}')\n",
    "            db.close()\n",
    "            stationary()\n",
    "        elif ch==3:\n",
    "            qt=int(input('How many set you required'))\n",
    "            db['stationary']['books']['class VIII']['stock']-=qt\n",
    "            print(f'You purcahsed {qt} set of books')\n",
    "            price=db['stationary']['books']['class VIII']['price']\n",
    "            l.append(f'Stationary\\tBook\\tNA\\t{qt}\\t{price}\\t{qt*price}')\n",
    "            db.close()\n",
    "            stationary()\n",
    "        elif ch==4:\n",
    "            qt=int(input('How many set you required'))\n",
    "            db['stationary']['books']['class IX']['stock']-=qt\n",
    "            print(f'You purcahsed {qt} set of books')\n",
    "            price=db['stationary']['books']['class IX']['price']\n",
    "            l.append(f'Stationary\\tBook\\tNA\\t{qt}\\t{price}\\t{qt*price}')\n",
    "            db.close()\n",
    "            stationary()\n",
    "        elif ch==5:\n",
    "            qt=int(input('How many set you required'))\n",
    "            db['stationary']['books']['class X']['stock']-=qt\n",
    "            print(f'You purcahsed {qt} set of books')\n",
    "            price=db['stationary']['books']['class X']['price']\n",
    "            l.append(f'Stationary\\tBook\\tNA\\t{qt}\\t{price}\\t{qt*price}')\n",
    "            db.close()\n",
    "            stationary()\n",
    "        else:\n",
    "            print('Class not avialable')\n",
    "            stationary()\n",
    "    else:\n",
    "        print('Please select valid input')\n",
    "        main()"
   ]
  },
  {
   "cell_type": "code",
   "execution_count": 38,
   "metadata": {},
   "outputs": [
    {
     "name": "stdout",
     "output_type": "stream",
     "text": [
      "                                              ***WELCOME TO OUR SERVICE***                                              \n",
      "1.Stationary\n",
      "2.Electronics\n",
      "3.Cosmatic\n",
      "4.Chocolate\n",
      "5.Exit\n",
      "Enter choice from above: 1\n",
      "1.pen\n",
      "2.register\n",
      "3.books\n",
      "4.Main\n",
      "Enter choice from above: 1\n",
      "1.link\n",
      "2.fine\n",
      "select pen: 2\n",
      "Avialable prices are:  [5, 10]\n",
      "Enter price from above10\n",
      "Enter quantity of pen2\n",
      "You purchased 2 set of pen\n",
      "1.pen\n",
      "2.register\n",
      "3.books\n",
      "4.Main\n",
      "Enter choice from above: 2\n",
      "1.classmate\n",
      "2.icon\n",
      "select register: 1\n",
      "Avialable prices are:  [50, 80]\n",
      "Enter price from above50\n",
      "Enter quantity of register2\n",
      "You purchased 2 set of register\n",
      "1.pen\n",
      "2.register\n",
      "3.books\n",
      "4.Main\n",
      "Enter choice from above: 3\n",
      "1.class VI\n",
      "2.class VII\n",
      "3.class VIII\n",
      "4.class IX\n",
      "5.class X\n",
      "select books: 1\n",
      "How many set you required2\n",
      "You purcahsed 2 set of books\n",
      "1.pen\n",
      "2.register\n",
      "3.books\n",
      "4.Main\n",
      "Enter choice from above: 4\n",
      "Please select valid input\n",
      "\n",
      "1.Stationary\n",
      "2.Electronics\n",
      "3.Cosmatic\n",
      "4.Chocolate\n",
      "5.Exit\n",
      "Enter choice from above: 5\n",
      "       Catagory\t        Product\t          Brand\t           Qty.\t        Rs./Qt.\t          Total\t\n",
      "____________________________________________________________________________________________________\n",
      "     Stationary\t            Pen\t           Fine\t              2\t             10\t             20\t\n",
      "____________________________________________________________________________________________________\n",
      "     Stationary\t       Register\t      Classmate\t              2\t             50\t            100\t\n",
      "____________________________________________________________________________________________________\n",
      "     Stationary\t           Book\t             NA\t              2\t            500\t           1000\t\n",
      "____________________________________________________________________________________________________\n",
      "Grand Total:                                                                               1120\n",
      "Thanks for using our sevice\n",
      "..........Exciting.........."
     ]
    }
   ],
   "source": [
    "main()"
   ]
  },
  {
   "cell_type": "code",
   "execution_count": 24,
   "metadata": {},
   "outputs": [
    {
     "data": {
      "text/plain": [
       "['Catagory\\tProduct\\tBrand\\tQty.\\tRs./Qt.\\tTotal',\n",
       " 'Stationary\\tBook\\tNA\\t2\\t700\\t1400']"
      ]
     },
     "execution_count": 24,
     "metadata": {},
     "output_type": "execute_result"
    }
   ],
   "source": [
    "l"
   ]
  },
  {
   "cell_type": "code",
   "execution_count": 25,
   "metadata": {},
   "outputs": [],
   "source": []
  },
  {
   "cell_type": "code",
   "execution_count": 26,
   "metadata": {},
   "outputs": [
    {
     "data": {
      "text/plain": [
       "[['Catagory', 'Product', 'Brand', 'Qty.', 'Rs./Qt.', 'Total'],\n",
       " ['Stationary', 'Book', 'NA', '2', '700', '1400']]"
      ]
     },
     "execution_count": 26,
     "metadata": {},
     "output_type": "execute_result"
    }
   ],
   "source": [
    "l1"
   ]
  },
  {
   "cell_type": "code",
   "execution_count": 31,
   "metadata": {},
   "outputs": [
    {
     "name": "stdout",
     "output_type": "stream",
     "text": [
      "       Catagory\t        Product\t          Brand\t           Qty.\t        Rs./Qt.\t          Total\t\n",
      "____________________________________________________________________________________________________\n",
      "     Stationary\t           Book\t             NA\t              2\t            700\t           1400\t\n",
      "____________________________________________________________________________________________________\n"
     ]
    }
   ],
   "source": [
    "l1=list()\n",
    "for i in l:\n",
    "    l1.append(i.split('\\t'))\n",
    "for i in range(len(l1)):\n",
    "    for j in range(len(l1[i])):\n",
    "        print(f\"{l1[i][j]:>15}\",end='\\t')\n",
    "    print()\n",
    "    print('_'*100)"
   ]
  },
  {
   "cell_type": "code",
   "execution_count": 32,
   "metadata": {},
   "outputs": [
    {
     "name": "stdout",
     "output_type": "stream",
     "text": [
      "\n",
      "1.Stationary\n",
      "2.Electronics\n",
      "3.Cosmatic\n",
      "4.Chocolate\n",
      "5.Exit\n",
      "Enter choice from above: 1\n",
      "1.pen\n",
      "2.register\n",
      "3.books\n",
      "4.Main\n",
      "Enter choice from above: 1\n",
      "1.link\n",
      "2.fine\n",
      "select pen: 1\n",
      "Avialable prices are:  [5, 10]\n",
      "Enter price from above10\n",
      "Enter quantity of pen2\n",
      "You purchased 2 set of pen\n",
      "1.pen\n",
      "2.register\n",
      "3.books\n",
      "4.Main\n",
      "Enter choice from above: 2\n",
      "1.classmate\n",
      "2.icon\n",
      "select register: 2\n",
      "Avialable prices are:  [50, 60]\n",
      "Enter price from above60\n",
      "Enter quantity of register2\n",
      "You purchased 2 set of register\n",
      "1.pen\n",
      "2.register\n",
      "3.books\n",
      "4.Main\n",
      "Enter choice from above: 3\n",
      "1.class VI\n",
      "2.class VII\n",
      "3.class VIII\n",
      "4.class IX\n",
      "5.class X\n",
      "select books: 3\n",
      "How many set you required2\n",
      "You purcahsed 2 set of books\n",
      "1.pen\n",
      "2.register\n",
      "3.books\n",
      "4.Main\n",
      "Enter choice from above: 4\n",
      "Please select valid input\n",
      "\n",
      "1.Stationary\n",
      "2.Electronics\n",
      "3.Cosmatic\n",
      "4.Chocolate\n",
      "5.Exit\n",
      "Enter choice from above: 5\n",
      "Thanks for using our sevice\n",
      "..........Exciting.........."
     ]
    }
   ],
   "source": [
    "main()"
   ]
  },
  {
   "cell_type": "code",
   "execution_count": 33,
   "metadata": {},
   "outputs": [
    {
     "name": "stdout",
     "output_type": "stream",
     "text": [
      "       Catagory\t        Product\t          Brand\t           Qty.\t        Rs./Qt.\t          Total\t\n",
      "____________________________________________________________________________________________________\n",
      "     Stationary\t           Book\t             NA\t              2\t            700\t           1400\t\n",
      "____________________________________________________________________________________________________\n",
      "     Stationary\t            Pen\t           Link\t              2\t             10\t             20\t\n",
      "____________________________________________________________________________________________________\n",
      "     Stationary\t       Register\t           Icon\t              2\t             60\t            120\t\n",
      "____________________________________________________________________________________________________\n",
      "     Stationary\t           Book\t             NA\t              2\t            700\t           1400\t\n",
      "____________________________________________________________________________________________________\n"
     ]
    }
   ],
   "source": [
    "l1=list()\n",
    "for i in l:\n",
    "    l1.append(i.split('\\t'))\n",
    "for i in range(len(l1)):\n",
    "    for j in range(len(l1[i])):\n",
    "        print(f\"{l1[i][j]:>15}\",end='\\t')\n",
    "    print()\n",
    "    print('_'*100)"
   ]
  },
  {
   "cell_type": "code",
   "execution_count": null,
   "metadata": {},
   "outputs": [],
   "source": []
  }
 ],
 "metadata": {
  "kernelspec": {
   "display_name": "Python 3",
   "language": "python",
   "name": "python3"
  },
  "language_info": {
   "codemirror_mode": {
    "name": "ipython",
    "version": 3
   },
   "file_extension": ".py",
   "mimetype": "text/x-python",
   "name": "python",
   "nbconvert_exporter": "python",
   "pygments_lexer": "ipython3",
   "version": "3.7.3"
  }
 },
 "nbformat": 4,
 "nbformat_minor": 2
}
