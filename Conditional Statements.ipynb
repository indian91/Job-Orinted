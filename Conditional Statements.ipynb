{
 "cells": [
  {
   "cell_type": "raw",
   "metadata": {},
   "source": [
    "1. Single If\n",
    "    if condn:\n",
    "        stmt\n",
    "\n",
    "2. If with else\n",
    "    if condn:\n",
    "        stmt\n",
    "    else:\n",
    "        stmt\n",
    "\n",
    "3. If else ladder\n",
    "    if condn:\n",
    "        stmt\n",
    "    elif condn:\n",
    "        stmt\n",
    "    elif condn:\n",
    "        stmt\n",
    "    else:\n",
    "        stmt\n",
    "\n",
    "4. Nested IF else\n",
    "\n",
    "    if condn:\n",
    "        stmt\n",
    "        if condn:\n",
    "            stmt'\n",
    "        else:\n",
    "            stmt\n",
    "    else:\n",
    "        stmt"
   ]
  },
  {
   "cell_type": "code",
   "execution_count": 4,
   "metadata": {},
   "outputs": [
    {
     "name": "stdout",
     "output_type": "stream",
     "text": [
      "Enter a number7\n"
     ]
    }
   ],
   "source": [
    "x=int(input('Enter a number'))\n",
    "if x ==5:\n",
    "    print('This is five')\n",
    "    "
   ]
  },
  {
   "cell_type": "code",
   "execution_count": 6,
   "metadata": {},
   "outputs": [
    {
     "name": "stdout",
     "output_type": "stream",
     "text": [
      "Enter a number7\n",
      "This is not five\n"
     ]
    }
   ],
   "source": [
    "x=int(input('Enter a number'))\n",
    "if x==5:\n",
    "    print('This is five')\n",
    "else:\n",
    "    print('This is not five')"
   ]
  },
  {
   "cell_type": "code",
   "execution_count": 7,
   "metadata": {},
   "outputs": [
    {
     "name": "stdout",
     "output_type": "stream",
     "text": [
      "5\n",
      "6\n",
      "6 is maximum\n"
     ]
    }
   ],
   "source": [
    "x,y=int(input()),int(input())\n",
    "if x>y:\n",
    "    print(f'{x} is maximum')\n",
    "else:\n",
    "    print(f'{y} is maximum')"
   ]
  },
  {
   "cell_type": "code",
   "execution_count": 8,
   "metadata": {},
   "outputs": [
    {
     "name": "stdout",
     "output_type": "stream",
     "text": [
      "9\n",
      "4\n",
      "9 is maximum\n"
     ]
    }
   ],
   "source": [
    "x,y=int(input()),int(input())\n",
    "if x>y:\n",
    "    print(f'{x} is maximum')\n",
    "else:\n",
    "    print(f'{y} is maximum')"
   ]
  },
  {
   "cell_type": "code",
   "execution_count": 10,
   "metadata": {},
   "outputs": [
    {
     "name": "stdout",
     "output_type": "stream",
     "text": [
      "Enter a number6\n",
      "Even\n"
     ]
    }
   ],
   "source": [
    "x=int(input('Enter a number'))\n",
    "if x%2==0:\n",
    "    print('Even')\n",
    "else:\n",
    "    print('Odd')"
   ]
  },
  {
   "cell_type": "code",
   "execution_count": 12,
   "metadata": {},
   "outputs": [
    {
     "name": "stdout",
     "output_type": "stream",
     "text": [
      "Enter a number98\n",
      "Even\n"
     ]
    }
   ],
   "source": [
    "x=int(input('Enter a number'))\n",
    "if x%2:\n",
    "    print('Odd')\n",
    "else:\n",
    "    print('Even')"
   ]
  },
  {
   "cell_type": "code",
   "execution_count": 13,
   "metadata": {},
   "outputs": [
    {
     "name": "stdout",
     "output_type": "stream",
     "text": [
      "Enter a number678\n",
      "Number is not divisible by 5\n"
     ]
    }
   ],
   "source": [
    "x=int(input('Enter a number'))\n",
    "if x%5:\n",
    "    print('Number is not divisible by 5')\n",
    "else:\n",
    "    print('Number is divisible 5')"
   ]
  },
  {
   "cell_type": "code",
   "execution_count": 17,
   "metadata": {},
   "outputs": [
    {
     "name": "stdout",
     "output_type": "stream",
     "text": [
      "Enter year2021\n",
      "Year is not a leap year\n"
     ]
    }
   ],
   "source": [
    "x=int(input('Enter year'))\n",
    "if x%4==0:\n",
    "    print('Leap Year')\n",
    "else:\n",
    "    print('Year is not a leap year')"
   ]
  },
  {
   "cell_type": "code",
   "execution_count": 19,
   "metadata": {},
   "outputs": [
    {
     "name": "stdout",
     "output_type": "stream",
     "text": [
      "Enter a number345\n",
      "X is divisible by 5 or 7\n"
     ]
    }
   ],
   "source": [
    "x=int(input('Enter a number'))\n",
    "if x%5==0 or x%7==0:\n",
    "    print('X is divisible by 5 or 7')\n",
    "else:\n",
    "    print('X is not divisible bye 5 and 7')"
   ]
  },
  {
   "cell_type": "code",
   "execution_count": 20,
   "metadata": {},
   "outputs": [],
   "source": [
    "l=[1,2,3,4,5,6]"
   ]
  },
  {
   "cell_type": "code",
   "execution_count": 23,
   "metadata": {},
   "outputs": [
    {
     "name": "stdout",
     "output_type": "stream",
     "text": [
      "Enter a number8\n",
      "Not avialable\n"
     ]
    }
   ],
   "source": [
    "x=int(input('Enter a number'))\n",
    "if x in l:\n",
    "    print('Number is avialbel in list')\n",
    "else:\n",
    "    print('Not avialable')"
   ]
  },
  {
   "cell_type": "code",
   "execution_count": 25,
   "metadata": {},
   "outputs": [
    {
     "name": "stdout",
     "output_type": "stream",
     "text": [
      "Enter a number22\n",
      "Number is not in table of two\n"
     ]
    }
   ],
   "source": [
    "l=[i for i in range(2,21,2)]\n",
    "x=int(input('Enter a number'))\n",
    "if x in l:\n",
    "    print('Number is in table of 2')\n",
    "else:\n",
    "    print('Number is not in table of two')"
   ]
  },
  {
   "cell_type": "code",
   "execution_count": 26,
   "metadata": {},
   "outputs": [],
   "source": [
    "ari=['+','-','*','**','/','//','%']\n"
   ]
  },
  {
   "cell_type": "code",
   "execution_count": 29,
   "metadata": {},
   "outputs": [
    {
     "name": "stdout",
     "output_type": "stream",
     "text": [
      "Enter any operator symbol6\n",
      "Symbol is not for arihtmatic operator\n",
      "Enter any operator symbol*\n",
      "Symbol is for arihtmatic operator\n",
      "Enter any operator symbol/\n",
      "Symbol is for arihtmatic operator\n"
     ]
    }
   ],
   "source": [
    "for i in range(3):\n",
    "    x=input('Enter any operator symbol')\n",
    "    if x in ari:\n",
    "        print('Symbol is for arihtmatic operator')\n",
    "    else:\n",
    "        print('Symbol is not for arihtmatic operator')"
   ]
  },
  {
   "cell_type": "code",
   "execution_count": 30,
   "metadata": {},
   "outputs": [],
   "source": [
    "ari=['+','-','*','**','/','//','%']\n",
    "log=['and','or','not']\n",
    "rel=['<','>','==','!=','<=','>=']\n",
    "bit=['&','|','~','<<','>>','^']\n",
    "assign=['=','+=','-=','*=','/=','//=','%=']"
   ]
  },
  {
   "cell_type": "code",
   "execution_count": 32,
   "metadata": {},
   "outputs": [
    {
     "name": "stdout",
     "output_type": "stream",
     "text": [
      "enter any operator symbol/\n",
      "Arithmatic operator\n",
      "enter any operator symboland\n",
      "Logical Operator\n",
      "enter any operator symbol<=\n",
      "Relational Operator\n",
      "enter any operator symbol^\n",
      "Bit wise Operator\n",
      "enter any operator symbol%=\n",
      "Assignment Operator\n",
      "enter any operator symbol{\n",
      "Invalid Operator Symbol\n"
     ]
    }
   ],
   "source": [
    "for i in range(6):\n",
    "    x=input('enter any operator symbol')\n",
    "    if x in ari:\n",
    "        print('Arithmatic operator')\n",
    "    elif x in log:\n",
    "        print('Logical Operator')\n",
    "    elif x in rel:\n",
    "        print('Relational Operator')\n",
    "    elif x in bit:\n",
    "        print('Bit wise Operator')\n",
    "    elif x in assign:\n",
    "        print('Assignment Operator')\n",
    "    else:\n",
    "        print('Invalid Operator Symbol')"
   ]
  },
  {
   "cell_type": "code",
   "execution_count": 37,
   "metadata": {},
   "outputs": [],
   "source": [
    "l1=[chr(i) for i in range(65,91)]\n",
    "l2=[chr(i) for i in range(97,123)]"
   ]
  },
  {
   "cell_type": "code",
   "execution_count": 40,
   "metadata": {},
   "outputs": [
    {
     "name": "stdout",
     "output_type": "stream",
     "text": [
      "A B C D E F G H I J K L M N O P Q R S T U V W X Y Z\n"
     ]
    }
   ],
   "source": [
    "print(*l1)"
   ]
  },
  {
   "cell_type": "code",
   "execution_count": 41,
   "metadata": {},
   "outputs": [
    {
     "name": "stdout",
     "output_type": "stream",
     "text": [
      "a b c d e f g h i j k l m n o p q r s t u v w x y z\n"
     ]
    }
   ],
   "source": [
    "print(*l2)"
   ]
  },
  {
   "cell_type": "code",
   "execution_count": 55,
   "metadata": {},
   "outputs": [
    {
     "name": "stdout",
     "output_type": "stream",
     "text": [
      "Enter anythinga\n",
      "X is an alphabet\n",
      "Enter anythingb\n",
      "X is an alphabet\n",
      "Enter anything4\n",
      "X is not an alphabet\n",
      "Enter anything5\n",
      "X is not an alphabet\n",
      "Enter anythingh\n",
      "X is an alphabet\n"
     ]
    }
   ],
   "source": [
    "for i in range(5):\n",
    "    x=input('Enter anything')\n",
    "    if x in l1 + l2:\n",
    "        print('X is an alphabet')\n",
    "    else:\n",
    "        print('X is not an alphabet')"
   ]
  },
  {
   "cell_type": "code",
   "execution_count": 59,
   "metadata": {},
   "outputs": [
    {
     "name": "stdout",
     "output_type": "stream",
     "text": [
      "Enter 16 digit card number1234567890123456\n",
      "Enter cvv987654\n",
      "Invalid CVV\n"
     ]
    }
   ],
   "source": [
    "card_number=input('Enter 16 digit card number')\n",
    "if len(card_number)!=16:\n",
    "    print('Invalid Card number')\n",
    "else:\n",
    "    cvv=input('Enter cvv')\n",
    "    if len(cvv)!=3:\n",
    "        print('Invalid CVV')\n",
    "    else:\n",
    "        print(card_number)\n",
    "        print(cvv)"
   ]
  },
  {
   "cell_type": "code",
   "execution_count": 63,
   "metadata": {},
   "outputs": [
    {
     "name": "stdout",
     "output_type": "stream",
     "text": [
      "4\n",
      "6\n",
      "8\n",
      "8 is maximum\n",
      "1\n",
      "2\n",
      "0\n",
      "1 is maximum\n",
      "9\n",
      "5\n",
      "3\n",
      "5 is maximum\n"
     ]
    }
   ],
   "source": [
    "for i in range(3):\n",
    "    x,y,z=int(input()),int(input()),int(input())\n",
    "    if x<y and x>z:\n",
    "        print(f'{x} is maximum')\n",
    "    elif y>z:\n",
    "        print(f'{y} is maximum')\n",
    "    else:\n",
    "        print(f'{z} is maximum')"
   ]
  },
  {
   "cell_type": "code",
   "execution_count": 67,
   "metadata": {},
   "outputs": [
    {
     "name": "stdout",
     "output_type": "stream",
     "text": [
      "1\n",
      "2\n",
      "3\n",
      "3 is maximum\n",
      "6\n",
      "5\n",
      "4\n",
      "6 is maximum\n",
      "7\n",
      "9\n",
      "8\n",
      "9 is maximum\n"
     ]
    }
   ],
   "source": [
    "for i in range(3):\n",
    "    x,y,z=int(input()),int(input()),int(input())\n",
    "    if x>y:\n",
    "        if x>z:\n",
    "            print(f'{x} is maximum')\n",
    "        else:\n",
    "            print(f'{z} is maximum')\n",
    "    else:\n",
    "        if y>z:\n",
    "            print(f'{y} is maximum')\n",
    "        else:\n",
    "            print(f'{z} is maximum')"
   ]
  },
  {
   "cell_type": "code",
   "execution_count": 72,
   "metadata": {},
   "outputs": [],
   "source": [
    "password='redhat@123'\n",
    "acc=1001\n",
    "from getpass import getpass"
   ]
  },
  {
   "cell_type": "code",
   "execution_count": 73,
   "metadata": {},
   "outputs": [
    {
     "name": "stdout",
     "output_type": "stream",
     "text": [
      "Enter account number1001\n",
      "Enter password········\n",
      "Login\n"
     ]
    }
   ],
   "source": [
    "x=int(input('Enter account number'))\n",
    "if x==acc:\n",
    "    pwd=getpass('Enter password')\n",
    "    if pwd==password:\n",
    "        print('Login')\n",
    "    else:\n",
    "        print('invalid password')\n",
    "else:\n",
    "    print('Account not exist')"
   ]
  },
  {
   "cell_type": "code",
   "execution_count": 74,
   "metadata": {},
   "outputs": [],
   "source": [
    "#Restaurent----->Home Delivery Avialable\n",
    "\n",
    "#Menu----<Veg Thali----->120,Non Vage Thali---->150\n",
    "#Distance upto 3 km then delivery is free\n",
    "#Distance ----> 4 to 6 3/km\n",
    "#distance 7 to 10 5/km\n",
    "#Distance is more than 10/km then delivery is not avialable "
   ]
  },
  {
   "cell_type": "code",
   "execution_count": 78,
   "metadata": {},
   "outputs": [
    {
     "name": "stdout",
     "output_type": "stream",
     "text": [
      "Please select the Thali from [N,V]3\n",
      "Enter yhe quantity of thali2\n",
      "Enter Distance10\n",
      "Invalid Input\n",
      "Please select the Thali from [N,V]n\n",
      "Enter yhe quantity of thali4\n",
      "Enter Distance8\n",
      "Your Total Bill:  619\n",
      "Please select the Thali from [N,V]v\n",
      "Enter yhe quantity of thali4\n",
      "Enter Distance11\n",
      "Delivery is not aviable at your location\n",
      "Please select the Thali from [N,V]f\n",
      "Enter yhe quantity of thalif\n"
     ]
    },
    {
     "ename": "ValueError",
     "evalue": "invalid literal for int() with base 10: 'f'",
     "output_type": "error",
     "traceback": [
      "\u001b[1;31m---------------------------------------------------------------------------\u001b[0m",
      "\u001b[1;31mValueError\u001b[0m                                Traceback (most recent call last)",
      "\u001b[1;32m<ipython-input-78-3d237e3a3d36>\u001b[0m in \u001b[0;36m<module>\u001b[1;34m\u001b[0m\n\u001b[0;32m      1\u001b[0m \u001b[1;32mfor\u001b[0m \u001b[0mi\u001b[0m \u001b[1;32min\u001b[0m \u001b[0mrange\u001b[0m\u001b[1;33m(\u001b[0m\u001b[1;36m5\u001b[0m\u001b[1;33m)\u001b[0m\u001b[1;33m:\u001b[0m\u001b[1;33m\u001b[0m\u001b[1;33m\u001b[0m\u001b[0m\n\u001b[0;32m      2\u001b[0m     \u001b[0mthali\u001b[0m\u001b[1;33m=\u001b[0m\u001b[0minput\u001b[0m\u001b[1;33m(\u001b[0m\u001b[1;34m'Please select the Thali from [N,V]'\u001b[0m\u001b[1;33m)\u001b[0m\u001b[1;33m.\u001b[0m\u001b[0mupper\u001b[0m\u001b[1;33m(\u001b[0m\u001b[1;33m)\u001b[0m\u001b[1;33m\u001b[0m\u001b[1;33m\u001b[0m\u001b[0m\n\u001b[1;32m----> 3\u001b[1;33m     \u001b[0mqt\u001b[0m\u001b[1;33m=\u001b[0m\u001b[0mint\u001b[0m\u001b[1;33m(\u001b[0m\u001b[0minput\u001b[0m\u001b[1;33m(\u001b[0m\u001b[1;34m'Enter yhe quantity of thali'\u001b[0m\u001b[1;33m)\u001b[0m\u001b[1;33m)\u001b[0m\u001b[1;33m\u001b[0m\u001b[1;33m\u001b[0m\u001b[0m\n\u001b[0m\u001b[0;32m      4\u001b[0m     \u001b[0mdis\u001b[0m\u001b[1;33m=\u001b[0m\u001b[0mint\u001b[0m\u001b[1;33m(\u001b[0m\u001b[0minput\u001b[0m\u001b[1;33m(\u001b[0m\u001b[1;34m'Enter Distance'\u001b[0m\u001b[1;33m)\u001b[0m\u001b[1;33m)\u001b[0m\u001b[1;33m\u001b[0m\u001b[1;33m\u001b[0m\u001b[0m\n\u001b[0;32m      5\u001b[0m \u001b[1;33m\u001b[0m\u001b[0m\n",
      "\u001b[1;31mValueError\u001b[0m: invalid literal for int() with base 10: 'f'"
     ]
    }
   ],
   "source": [
    "for i in range(5):\n",
    "    thali=input('Please select the Thali from [N,V]').upper()\n",
    "    qt=int(input('Enter yhe quantity of thali'))\n",
    "    dis=int(input('Enter Distance'))\n",
    "\n",
    "    if thali in ['N','V'] and qt > 0 and dis>0:\n",
    "        if thali=='N':\n",
    "            price= qt*150\n",
    "        else:\n",
    "            price=qt*120\n",
    "\n",
    "        if dis <= 3:\n",
    "            final_price=price\n",
    "            print('Your Total Bill: ',final_price)\n",
    "        elif dis <= 6:\n",
    "            final_price=(dis-3)*3+price\n",
    "            print('Your Total Bill: ',final_price)\n",
    "        elif dis <= 10:\n",
    "            final_price=(dis-6)*5+3*3+price\n",
    "            print('Your Total Bill: ',final_price)\n",
    "        else:\n",
    "            print('Delivery is not aviable at your location')\n",
    "    else:\n",
    "        print('Invalid Input')\n",
    "\n",
    "    "
   ]
  },
  {
   "cell_type": "code",
   "execution_count": 85,
   "metadata": {},
   "outputs": [
    {
     "name": "stdout",
     "output_type": "stream",
     "text": [
      "Enter date in dd/mm/yyyy format30/11/2020\n",
      "Next Date: 1/12/2020\n"
     ]
    }
   ],
   "source": [
    "date=input('Enter date in dd/mm/yyyy format').split('/')\n",
    "day=int(date[0])\n",
    "month=int(date[1])\n",
    "year=int(date[2])\n",
    "if month==2 and year%4==0:\n",
    "    if day> 0 and day < 30:\n",
    "        if day==29:\n",
    "            day=1\n",
    "            month+=1\n",
    "        else:\n",
    "            day+=1\n",
    "    else:\n",
    "        print('Invalid Date for month')\n",
    "elif month==2 and year%4!=0:\n",
    "    if day >0 and day < 29:\n",
    "        if day==28:\n",
    "            day=1\n",
    "            month+=1\n",
    "        else:\n",
    "            day+=1\n",
    "    else:\n",
    "        print('Invalid Date for month')\n",
    "elif month in [4,6,9,11]:\n",
    "    if day > 0 and day < 31:\n",
    "        if day==30:\n",
    "            day=1\n",
    "            month+=1\n",
    "        else:\n",
    "            day+=1\n",
    "    else:\n",
    "        print('Invalid Date for month')\n",
    "elif month in [1,3,5,7,8,10]:\n",
    "    if day > 0 and day < 32:\n",
    "        if day==31:\n",
    "            day=1\n",
    "            month+=1\n",
    "        else:\n",
    "            day+=1\n",
    "    else:\n",
    "        print('Invalid Date for month')\n",
    "elif month==12:\n",
    "    if day > 0 and day<32:\n",
    "        if day==31:\n",
    "            day=1\n",
    "            month=1\n",
    "            year+=1\n",
    "        else:\n",
    "            day+=1\n",
    "    else:\n",
    "        print('Invalid date for month')\n",
    "        \n",
    "else:\n",
    "    print('Invaild Month')\n",
    "\n",
    "print(f'Next Date: {day}/{month}/{year}')"
   ]
  },
  {
   "cell_type": "code",
   "execution_count": null,
   "metadata": {},
   "outputs": [],
   "source": [
    "#Bill Amount--->28\n",
    "#1 and 5rs. coin."
   ]
  }
 ],
 "metadata": {
  "kernelspec": {
   "display_name": "Python 3",
   "language": "python",
   "name": "python3"
  },
  "language_info": {
   "codemirror_mode": {
    "name": "ipython",
    "version": 3
   },
   "file_extension": ".py",
   "mimetype": "text/x-python",
   "name": "python",
   "nbconvert_exporter": "python",
   "pygments_lexer": "ipython3",
   "version": "3.7.3"
  }
 },
 "nbformat": 4,
 "nbformat_minor": 2
}
